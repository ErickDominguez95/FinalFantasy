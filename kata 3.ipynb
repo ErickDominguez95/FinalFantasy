{
 "cells": [
  {
   "cell_type": "code",
   "execution_count": 2,
   "metadata": {},
   "outputs": [
    {
     "name": "stdout",
     "output_type": "stream",
     "text": [
      "155\n"
     ]
    }
   ],
   "source": [
    "# Tip de práctica 1: Intenta ejecutarlo en un notebook.\n",
    "a = 97\n",
    "b = 155\n",
    "# test expression / expresión de prueba\n",
    "if a < b:\n",
    "    # statement to be run / instrucción a ejecutar\n",
    "    print(b)"
   ]
  },
  {
   "cell_type": "markdown",
   "metadata": {},
   "source": [
    "cambie el numero de la variable b para que imprimiera algo jeje"
   ]
  },
  {
   "cell_type": "code",
   "execution_count": 3,
   "metadata": {},
   "outputs": [
    {
     "name": "stdout",
     "output_type": "stream",
     "text": [
      "93\n"
     ]
    }
   ],
   "source": [
    "# Aplica el tip de práctica 1.\n",
    "a = 93\n",
    "b = 27\n",
    "if a >= b:\n",
    "    print(a)"
   ]
  },
  {
   "cell_type": "markdown",
   "metadata": {},
   "source": [
    "## inicio de ejercicio kata 3 :D\n"
   ]
  },
  {
   "cell_type": "code",
   "execution_count": 12,
   "metadata": {},
   "outputs": [
    {
     "name": "stdout",
     "output_type": "stream",
     "text": [
      "La velocidad del asteriode es de 49km/s la cual supera los 25 km/s velocidad limite, tengan cuidado ;)\n"
     ]
    }
   ],
   "source": [
    "vel_metiorito   =   49\n",
    "vel_limite      =   25\n",
    "\n",
    "if vel_metiorito >  vel_limite:\n",
    "    print(\"La velocidad del asteriode es de \" + str (vel_metiorito) + \"km/s la cual supera los 25 km/s velocidad limite, tengan cuidado ;)\")\n",
    "\n",
    "else: print(\"el asterioide no representa riesgo\")\n"
   ]
  },
  {
   "cell_type": "code",
   "execution_count": 3,
   "metadata": {},
   "outputs": [
    {
     "name": "stdout",
     "output_type": "stream",
     "text": [
      "el asterioide no representa riesgo\n"
     ]
    }
   ],
   "source": [
    "vel_metiorito   =   19\n",
    "vel_limite      =   25\n",
    "\n",
    "if vel_metiorito >  vel_limite:\n",
    "    print(\"La velocidad del asteriode es de \" + str (vel_metiorito) + \"km/s Puede soltar destellos tengo un ojo al cielo ;)\")\n",
    "elif vel_metiorito ==  vel_limite:\n",
    "    print(\"El asteroide esta a limite de velocidad tengan precaucion\")\n",
    "else: print(\"el asterioide no representa riesgo\")\n"
   ]
  },
  {
   "cell_type": "markdown",
   "metadata": {},
   "source": [
    "# Ejercicio: Uso de operadores `and` y `or` "
   ]
  },
  {
   "cell_type": "code",
   "execution_count": 7,
   "metadata": {},
   "outputs": [
    {
     "name": "stdout",
     "output_type": "stream",
     "text": [
      "Disfruten los ultimos minutos del planeta\n"
     ]
    }
   ],
   "source": [
    "vel_metiorito   =   50\n",
    "vel_limite      =   25\n",
    "tamaño          =   int(input(\"Cual es la medida del asteroide?\")) \n",
    "\n",
    "if (vel_metiorito >  vel_limite) and (tamaño > 25):\n",
    "    if(tamaño > 1000):\n",
    "        print(\"Disfruten los ultimos minutos del planeta\")\n",
    "    else :   \n",
    "        print(\"La velocidad del asteriode es de \" + str (vel_metiorito) + \"km/s Puede soltar destellos tengo un ojo al cielo ;)\")\n",
    "elif vel_metiorito ==  vel_limite:\n",
    "    print(\"El asteroide esta a limite de velocidad tengan precaucion\")\n",
    "else: print(\"el asterioide no representa riesgo\")"
   ]
  }
 ],
 "metadata": {
  "interpreter": {
   "hash": "33541a670e8887513ebdf0f19cec6625b51694c5ef6b1c7e83282c54d5cd54e5"
  },
  "kernelspec": {
   "display_name": "Python 3.10.2 64-bit",
   "language": "python",
   "name": "python3"
  },
  "language_info": {
   "codemirror_mode": {
    "name": "ipython",
    "version": 3
   },
   "file_extension": ".py",
   "mimetype": "text/x-python",
   "name": "python",
   "nbconvert_exporter": "python",
   "pygments_lexer": "ipython3",
   "version": "3.10.2"
  },
  "orig_nbformat": 4
 },
 "nbformat": 4,
 "nbformat_minor": 2
}
