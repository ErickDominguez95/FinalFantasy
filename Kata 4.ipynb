{
 "cells": [
  {
   "cell_type": "markdown",
   "metadata": {},
   "source": [
    "## Ejercicio 1"
   ]
  },
  {
   "cell_type": "markdown",
   "metadata": {},
   "source": [
    "Primero, divide el texto en cada oración para trabajar con su contenido:"
   ]
  },
  {
   "cell_type": "code",
   "execution_count": 1,
   "metadata": {},
   "outputs": [
    {
     "name": "stdout",
     "output_type": "stream",
     "text": [
      "['Interesting facts about the Moon', \"The Moon is Earth's only satellite\", 'There are several interesting facts about the Moon and how it affects life here on Earth', '\\nOn average, the Moon moves 4cm away from the Earth every year', 'This yearly drift is not significant enough to cause immediate effects on Earth', 'The highest daylight temperature of the Moon is 127 C.']\n"
     ]
    }
   ],
   "source": [
    "text = \"\"\"Interesting facts about the Moon. The Moon is Earth's only satellite. There are several interesting facts about the Moon and how it affects life here on Earth. \n",
    "On average, the Moon moves 4cm away from the Earth every year. This yearly drift is not significant enough to cause immediate effects on Earth. The highest daylight temperature of the Moon is 127 C.\"\"\"\n",
    "\n",
    "texto_partes = text.split(\".\")\n",
    "print (texto_partes)\n"
   ]
  },
  {
   "cell_type": "markdown",
   "metadata": {},
   "source": [
    "Ahora, define algunas palabras clave para búsqueda que te ayudarán a determinar si una oración contiene un hecho. \n",
    "\n",
    "Define las palabras pista: average, temperature y distance suenan bien"
   ]
  },
  {
   "cell_type": "code",
   "execution_count": 18,
   "metadata": {},
   "outputs": [
    {
     "name": "stdout",
     "output_type": "stream",
     "text": [
      "164\n",
      "326\n",
      "-1\n",
      " The Moon is Earth's only satellite\n",
      " There are several interesting facts about the Moon and how it affects life here on Earth\n",
      " This yearly drift is not significant enough to cause immediate effects on Earth\n",
      " The highest daylight temperature of the Moon is 127 C\n"
     ]
    }
   ],
   "source": [
    "text = \"\"\"Interesting facts about the Moon. The Moon is Earth's only satellite. There are several interesting facts about the Moon and how it affects life here on Earth. \n",
    "On average, the Moon moves 4cm away from the Earth every year. This yearly drift is not significant enough to cause immediate effects on Earth. The highest daylight temperature of the Moon is 127 C.\"\"\"\n",
    "a = 0 # Variable auxiliar\n",
    "word_key = [\"average\", \"temperature\", \"distance\"]\n",
    "\n",
    "texto_partes = text.split(\".\")\n",
    "\n",
    "while a <=2:\n",
    "    print(text.find(word_key[a]))\n",
    "    a += 1\n",
    "\n",
    "for sentence in texto_partes:\n",
    "    for word_key in word_key:\n",
    "        if word_key in sentence:\n",
    "            print(sentence)\n",
    "            break\n",
    "\n"
   ]
  },
  {
   "cell_type": "markdown",
   "metadata": {},
   "source": [
    "https://www.datacamp.com/community/tutorials/loops-python-tutorial?utm_source=adwords_ppc&utm_medium=cpc&utm_campaignid=1455363063&utm_adgroupid=65083631748&utm_device=c&utm_keyword=&utm_matchtype=&utm_network=g&utm_adpostion=&utm_creative=278443377086&utm_targetid=aud-517318241987:dsa-429603003980&utm_loc_interest_ms=&utm_loc_physical_ms=1010163&gclid=Cj0KCQiAu62QBhC7ARIsALXijXRb5UUXrYEm-Z7g2pMY5dAvYRRgegsvNOn0D9XmV-lHziZHYQYRxpQaAqimEALw_wcB\n",
    "\n",
    "en esta liga entendi un poco mas el concepto "
   ]
  },
  {
   "cell_type": "markdown",
   "metadata": {},
   "source": [
    "agregue un loop para poder imprimir os resultados de text.find"
   ]
  },
  {
   "cell_type": "code",
   "execution_count": 26,
   "metadata": {},
   "outputs": [
    {
     "name": "stdout",
     "output_type": "stream",
     "text": [
      "164\n",
      "326\n",
      "-1\n",
      " The Moon is Earth's only satellite\n",
      " There are several interesting facts about the Moon and how it affects life here on Earth\n",
      " This yearly drift is not significant enough to cause immediate effects on Earth\n",
      " The highest daylight temperature of the Moon is 127 Celsius\n"
     ]
    }
   ],
   "source": [
    "text = \"\"\"Interesting facts about the Moon. The Moon is Earth's only satellite. There are several interesting facts about the Moon and how it affects life here on Earth. \n",
    "On average, the Moon moves 4cm away from the Earth every year. This yearly drift is not significant enough to cause immediate effects on Earth. The highest daylight temperature of the Moon is 127 C.\"\"\"\n",
    "a = 0 # Variable auxiliar\n",
    "word_key = [\"average\", \"temperature\", \"distance\"]\n",
    "\n",
    "texto_partes = text.split(\".\")\n",
    "\n",
    "while a <=2:\n",
    "    print(text.find(word_key[a]))\n",
    "    a += 1\n",
    "\n",
    "for sentence in texto_partes:\n",
    "    for word_key in word_key:\n",
    "        if word_key in sentence:\n",
    "            if sentence.find(\"Moon\"):       # Se lo agregue por que pense que era buscar la palabra Moon jeje \n",
    "                sentence = sentence.replace('C','Celsius') # esto devuelve un texto pero no lo guarda me refiero a replace \n",
    "                print(sentence)\n",
    "            break\n"
   ]
  },
  {
   "cell_type": "markdown",
   "metadata": {},
   "source": [
    "si costo entender el mecanismo de los ciclos y como funcionan la vdd "
   ]
  },
  {
   "cell_type": "markdown",
   "metadata": {},
   "source": [
    "### parte 2\n"
   ]
  },
  {
   "cell_type": "markdown",
   "metadata": {},
   "source": [
    "En lugar de reemplazar las variables en una cadena larga como parte de un párrafo, utiliza la información para presentarla en un formato tabular. El resultado debería verse así:\n",
    "\n",
    "```\n",
    "Gravity Facts about Ganymede\n",
    "-------------------------------------------------------------------------------\n",
    "Planet Name: Mars\n",
    "Gravity on Ganymede: 1.4300000000000002 m/s2\n",
    "```"
   ]
  },
  {
   "cell_type": "code",
   "execution_count": null,
   "metadata": {},
   "outputs": [],
   "source": [
    "# Datos con los que vas a trabajar\n",
    "name = \"Moon\"\n",
    "gravity = 0.00162 # in kms\n",
    "planet = \"Earth\""
   ]
  },
  {
   "cell_type": "code",
   "execution_count": 29,
   "metadata": {},
   "outputs": [
    {
     "name": "stdout",
     "output_type": "stream",
     "text": [
      "Gravity Facts about Moon\n"
     ]
    }
   ],
   "source": [
    "# Datos con los que vas a trabajar\n",
    "name = \"Moon\"\n",
    "gravity = 0.00162 # in kms\n",
    "planet = \"Earth\"\n",
    "\n",
    "Titulo = f'Gravity Facts about {name}'\n",
    "print(Titulo)"
   ]
  },
  {
   "cell_type": "code",
   "execution_count": 35,
   "metadata": {},
   "outputs": [
    {
     "name": "stdout",
     "output_type": "stream",
     "text": [
      "Gravity Facts about Moon\n",
      "Planet Name: Earth\n",
      "Gravity on Ganymede: 1.6199999999999999 m/s2\n"
     ]
    }
   ],
   "source": [
    "# Datos con los que vas a trabajar\n",
    "name = \"Moon\"\n",
    "gravity = 0.00162 # in kms\n",
    "planet = \"Earth\"\n",
    "\n",
    "Titulo = f'Gravity Facts about {name}'\n",
    "# print(Titulo)\n",
    "\n",
    "conver = gravity * 1000\n",
    "\n",
    "plantilla = f\"\"\"Planet Name: {planet}\n",
    "Gravity on Ganymede: {conver} m/s2\"\"\"\n",
    "\n",
    "cuerpo = f\"\"\"{Titulo}\n",
    "{plantilla}\"\"\"\n",
    "\n",
    "print(cuerpo)\n",
    "\n",
    "#prueba = f\"\"\"como funciona esto ? \n",
    "#por que aun no le entiendo bn \"\"\"\n",
    "#print(prueba)\n"
   ]
  },
  {
   "cell_type": "code",
   "execution_count": 42,
   "metadata": {},
   "outputs": [
    {
     "name": "stdout",
     "output_type": "stream",
     "text": [
      "Gravity Facts about Moon\n",
      "Planet Name: Earth\n",
      "Gravity on Ganymede: 1.6199999999999999 m/s2\n",
      "\n",
      "\n",
      "Gravity Facts about Moon\n",
      "Planet Name: Earth\n",
      "Gravity on Ganymede: 1.6199999999999999 m/s2\n",
      "\n",
      "\n"
     ]
    }
   ],
   "source": [
    "name    =   \"Moon\"\n",
    "gravity =   0.00162                     # in kms\n",
    "planet  =   \"Earth\"\n",
    "\n",
    "Titulo  =   f'Gravity Facts about {name}'\n",
    "\n",
    "conver  =   gravity * 1000              # in m/s2\n",
    "\n",
    "plantilla = f\"\"\"Planet Name: {planet}\n",
    "Gravity on Ganymede: {conver} m/s2\n",
    "\n",
    "\"\"\"\n",
    "\n",
    "cuerpo  =   f\"\"\"{Titulo}\n",
    "{plantilla}\"\"\"\n",
    "\n",
    "print(cuerpo)\n",
    "\n",
    "planeta     =   'Marte '\n",
    "gravedad    =   0.00143\n",
    "nombre      =   'Ganímedes'\n",
    "\n",
    "print(cuerpo.format(planeta=planeta,gravedad=gravedad,nombre=nombre))\n",
    "\n"
   ]
  },
  {
   "cell_type": "code",
   "execution_count": 12,
   "metadata": {},
   "outputs": [
    {
     "name": "stdout",
     "output_type": "stream",
     "text": [
      "0\n",
      "1\n",
      "2\n",
      "3\n"
     ]
    }
   ],
   "source": [
    "a=0\n",
    "while a <= 3:\n",
    "    print(a)\n",
    "    a+=1\n"
   ]
  }
 ],
 "metadata": {
  "interpreter": {
   "hash": "33541a670e8887513ebdf0f19cec6625b51694c5ef6b1c7e83282c54d5cd54e5"
  },
  "kernelspec": {
   "display_name": "Python 3.10.2 64-bit",
   "language": "python",
   "name": "python3"
  },
  "language_info": {
   "codemirror_mode": {
    "name": "ipython",
    "version": 3
   },
   "file_extension": ".py",
   "mimetype": "text/x-python",
   "name": "python",
   "nbconvert_exporter": "python",
   "pygments_lexer": "ipython3",
   "version": "3.10.2"
  },
  "orig_nbformat": 4
 },
 "nbformat": 4,
 "nbformat_minor": 2
}
