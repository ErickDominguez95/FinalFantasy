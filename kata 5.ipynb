{
 "cells": [
  {
   "cell_type": "markdown",
   "metadata": {},
   "source": [
    "## Asiganación de variables"
   ]
  },
  {
   "cell_type": "code",
   "execution_count": 1,
   "metadata": {},
   "outputs": [],
   "source": [
    "Tierra = 149597870\n",
    "jupiter = 778547200 #no agrgo el prefijo de k/m por que lo haria una variable str"
   ]
  },
  {
   "cell_type": "markdown",
   "metadata": {},
   "source": [
    "## Operación"
   ]
  },
  {
   "cell_type": "code",
   "execution_count": 3,
   "metadata": {},
   "outputs": [
    {
     "name": "stdout",
     "output_type": "stream",
     "text": [
      "628949330\n",
      "390577533.93\n"
     ]
    }
   ],
   "source": [
    "Tierra = 149597870\n",
    "jupiter = 778547200 #no agrgo el prefijo de k/m por que lo haria una variable str\n",
    "\n",
    "distancia = abs(Tierra-jupiter)\n",
    "dis_millas = distancia * 0.621\n",
    "\n",
    "print(distancia)\n",
    "print(dis_millas)"
   ]
  },
  {
   "cell_type": "markdown",
   "metadata": {},
   "source": [
    "# Ejercicio 2"
   ]
  },
  {
   "cell_type": "code",
   "execution_count": 1,
   "metadata": {},
   "outputs": [
    {
     "name": "stdout",
     "output_type": "stream",
     "text": [
      "Primer planeta = tierra\n",
      "Distancia de tierra al sol = 8500000\n",
      "\n",
      "Segundo planeta = mercurio \n",
      "Distancia de mercurio  al sol = 950000000\n",
      "\n",
      "La distancia entre ambos planetas es de =941500000Km\n",
      "La distancia en Millas es de = 584671500.0\n"
     ]
    }
   ],
   "source": [
    "milla = 0.621\n",
    "Nom_p1 = input(\"Cual es el planeta #1\")\n",
    "Nom_p2 = input(\"Cual es el planera #2\")\n",
    "dis_p1 = input(f\"ingrese la distancia del sol a {Nom_p1}\")\n",
    "dis_p2 = input(f\"ingrese la distancia del sol a {Nom_p2}\")\n",
    "\n",
    "Plantilla = f\"\"\"Primer planeta = {Nom_p1}\n",
    "Distancia de {Nom_p1} al sol = {dis_p1}\n",
    "\n",
    "Segundo planeta = {Nom_p2}\n",
    "Distancia de {Nom_p2} al sol = {dis_p2}\n",
    "\n",
    "\"\"\"\n",
    "#print(Plantilla)\n",
    "\n",
    "Dis = abs(int(dis_p1)-int(dis_p2))\n",
    "\n",
    "Resulrado = f\"\"\"La distancia entre ambos planetas es de ={Dis} Km\n",
    "La distancia en Millas es de = {Dis*milla} millas\"\"\" \n",
    "\n",
    "Display = Plantilla + Resulrado\n",
    "\n",
    "print(Display)\n",
    "\n"
   ]
  }
 ],
 "metadata": {
  "interpreter": {
   "hash": "33541a670e8887513ebdf0f19cec6625b51694c5ef6b1c7e83282c54d5cd54e5"
  },
  "kernelspec": {
   "display_name": "Python 3.10.2 64-bit",
   "language": "python",
   "name": "python3"
  },
  "language_info": {
   "codemirror_mode": {
    "name": "ipython",
    "version": 3
   },
   "file_extension": ".py",
   "mimetype": "text/x-python",
   "name": "python",
   "nbconvert_exporter": "python",
   "pygments_lexer": "ipython3",
   "version": "3.10.2"
  },
  "orig_nbformat": 4
 },
 "nbformat": 4,
 "nbformat_minor": 2
}
