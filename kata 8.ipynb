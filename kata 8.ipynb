{
 "cells": [
  {
   "cell_type": "markdown",
   "metadata": {},
   "source": [
    "# Ejercicio 1\n"
   ]
  },
  {
   "cell_type": "code",
   "execution_count": 26,
   "metadata": {},
   "outputs": [
    {
     "name": "stdout",
     "output_type": "stream",
     "text": [
      "Mars  Have  2  moons arround it self\n",
      "\n",
      "Mars  Have this circunference in km:  None\n",
      "Mars, this planet has this polar circunference in km 6752\n",
      "\n"
     ]
    }
   ],
   "source": [
    "# Crea un diccionario llamado planet con los datos propuestos\n",
    "planet = {\n",
    "    'name':'Mars',\n",
    "    'moons': 2\n",
    "    }\n",
    "\n",
    "# Muestra el nombre del planeta y el número de lunas que tiene.\n",
    "print(planet.get('name'), ' Have ', planet.get('moons'),' moons arround it self\\n')\n",
    "\n",
    "# Agrega la clave circunferencia con los datos proporcionados previamente\n",
    "planet['circunferencia (km)']={\n",
    "    'polar': 6752,\n",
    "    'equatorial' : 6792 \n",
    "}\n",
    "\n",
    "# Agrega la clave circunferencia con los datos proporcionados previamente\n",
    "print(planet.get('name'),' Have this circunference in km: ',planet.get('circunferencia (km)\\n'))\n",
    "\n",
    "# Imprime el nombre del planeta con su circunferencia polar.\n",
    "print(f\"{planet['name']}, this planet has this polar circunference in km {planet['circunferencia (km)']['polar']}\\n\")\n"
   ]
  },
  {
   "cell_type": "markdown",
   "metadata": {},
   "source": [
    "# Ejercicio 2"
   ]
  },
  {
   "cell_type": "code",
   "execution_count": 63,
   "metadata": {},
   "outputs": [
    {
     "name": "stdout",
     "output_type": "stream",
     "text": [
      "lunas total en el sistema solar son:  214 \n",
      "\n",
      "El promedio de lunas por planeta es de =  17.833333333333332  Lunas por planeta\n"
     ]
    }
   ],
   "source": [
    "# Planets and moons\n",
    "\n",
    "planet_moons = {\n",
    "    'mercury': 0,\n",
    "    'venus': 0,\n",
    "    'earth': 1,\n",
    "    'mars': 2,\n",
    "    'jupiter': 79,\n",
    "    'saturn': 82,\n",
    "    'uranus': 27,\n",
    "    'neptune': 14,\n",
    "    'pluto': 5,\n",
    "    'haumea': 2,\n",
    "    'makemake': 1,\n",
    "    'eris': 1\n",
    "}\n",
    "\n",
    "# Añade el código para determinar el número de lunas.\n",
    "Moons = 0\n",
    "planets = len(planet_moons)\n",
    "for key in planet_moons.keys():\n",
    "    Moons = Moons + planet_moons[key] \n",
    "    #print(f'{key}: {planet_moons[key]}')\n",
    "    #print(Moons)\n",
    "\n",
    "print('lunas total en el sistema solar son: ', Moons,'\\n')\n",
    "print('El promedio de lunas por planeta es de = ',Moons / planets,' Lunas por planeta')\n",
    "\n",
    "\n",
    "# Agrega el código para contar el número de lunas. \n",
    "    \n"
   ]
  },
  {
   "cell_type": "markdown",
   "metadata": {},
   "source": [
    "perdon no lo hice como usted me indico pero se me hio mas facil asi teahcer :D"
   ]
  }
 ],
 "metadata": {
  "interpreter": {
   "hash": "33541a670e8887513ebdf0f19cec6625b51694c5ef6b1c7e83282c54d5cd54e5"
  },
  "kernelspec": {
   "display_name": "Python 3.10.2 64-bit",
   "language": "python",
   "name": "python3"
  },
  "language_info": {
   "codemirror_mode": {
    "name": "ipython",
    "version": 3
   },
   "file_extension": ".py",
   "mimetype": "text/x-python",
   "name": "python",
   "nbconvert_exporter": "python",
   "pygments_lexer": "ipython3",
   "version": "3.10.2"
  },
  "orig_nbformat": 4
 },
 "nbformat": 4,
 "nbformat_minor": 2
}
