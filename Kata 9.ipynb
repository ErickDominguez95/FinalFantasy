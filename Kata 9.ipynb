{
 "cells": [
  {
   "cell_type": "markdown",
   "metadata": {},
   "source": [
    "# Ejercicio1 "
   ]
  },
  {
   "cell_type": "code",
   "execution_count": 2,
   "metadata": {},
   "outputs": [
    {
     "name": "stdout",
     "output_type": "stream",
     "text": [
      "Informe para el Capitan \n",
      "    El Combustible Promedio = 79.0\n",
      "    El tanque Delantero tiene = 52\n",
      "    El tanque Central tiene = 100\n",
      "    El tanque Trasero tiene = 85\n",
      "    Hasta aqui EL reporte Cap, suerte en su Destino (°-°)\n",
      "    \n"
     ]
    }
   ],
   "source": [
    "# Función para leer 3 tanques de combustible y muestre el promedio\n",
    "def Tank_fuel(T1,T2,T3):\n",
    "    Comb_Prom = ((T1+T2+T3)/3)\n",
    "    return f\"\"\"Informe para el Capitan \n",
    "    El Combustible Promedio = {Comb_Prom}\n",
    "    El tanque Delantero tiene = {T1}\n",
    "    El tanque Central tiene = {T2}\n",
    "    El tanque Trasero tiene = {T3}\n",
    "    Hasta aqui El reporte Cap, suerte en su Destino (°-°)\n",
    "    \"\"\"\n",
    "\n",
    "\n",
    "# Llamamos a la función que genera el reporte print(funcion(tanque1, tanque2, tanque3))\n",
    "print(Tank_fuel(52,100,85))"
   ]
  },
  {
   "cell_type": "code",
   "execution_count": 3,
   "metadata": {},
   "outputs": [
    {
     "name": "stdout",
     "output_type": "stream",
     "text": [
      "55.666666666666664\n"
     ]
    }
   ],
   "source": [
    "# Función promedio \n",
    "def Prom(d1,d2,d3):\n",
    "    return ((d1+d2+d3)/3)\n",
    "\n",
    "print(Prom(58,94,15))"
   ]
  },
  {
   "cell_type": "code",
   "execution_count": 4,
   "metadata": {},
   "outputs": [
    {
     "name": "stdout",
     "output_type": "stream",
     "text": [
      "Informe para el Capitan \n",
      "    El Combustible Promedio = 79.0\n",
      "    El tanque Delantero tiene = 52\n",
      "    El tanque Central tiene = 100\n",
      "    El tanque Trasero tiene = 85\n",
      "    Hasta aqui El reporte Cap, suerte en su Destino (°-°)\n",
      "    \n"
     ]
    }
   ],
   "source": [
    "# Actualiza la función\n",
    "def Prom(d1,d2,d3):\n",
    "    return ((d1+d2+d3)/3)\n",
    "\n",
    "def Tank_fuel(T1,T2,T3):\n",
    "    return f\"\"\"Informe para el Capitan \n",
    "    El Combustible Promedio = {Prom(T1,T2,T3)}\n",
    "    El tanque Delantero tiene = {T1}\n",
    "    El tanque Central tiene = {T2}\n",
    "    El tanque Trasero tiene = {T3}\n",
    "    Hasta aqui El reporte Cap, suerte en su Destino (°-°)\n",
    "    \"\"\"\n",
    "\n",
    "print(Tank_fuel(52,100,85))"
   ]
  },
  {
   "cell_type": "markdown",
   "metadata": {},
   "source": [
    "# Ejercicio 2\n"
   ]
  },
  {
   "cell_type": "code",
   "execution_count": 7,
   "metadata": {},
   "outputs": [
    {
     "name": "stdout",
     "output_type": "stream",
     "text": [
      "Bienvenido al Informe Preciso del Apollo 11\n",
      "    Destino: MiCasa\n",
      "    Combustible en tanques: 207\n",
      "    Tiempo recorrido de misión: 160 \n",
      "    \n"
     ]
    }
   ],
   "source": [
    "# Función con un informe preciso de la misión. \n",
    "# Considera hora de prelanzamiento, tiempo de vuelo, destino, \n",
    "# tanque externo y tanque interno\n",
    "\n",
    "def Info(Hora_pre,Tiempo_Vuelo,Dest,Tank_ex,Tank_int):\n",
    "    return f\"\"\"Bienvenido al Informe Preciso del Apollo 11\n",
    "    Destino: {Dest}\n",
    "    Combustible en tanques: {Tank_ex+Tank_int}\n",
    "    Tiempo recorrido de misión: {Hora_pre+Tiempo_Vuelo} \n",
    "    \"\"\"\n",
    "\n",
    "print(Info(35,125,'MiCasa',84,123))"
   ]
  },
  {
   "cell_type": "code",
   "execution_count": 10,
   "metadata": {},
   "outputs": [
    {
     "name": "stdout",
     "output_type": "stream",
     "text": [
      "Bienvenido al Informe Preciso del Apollo 11\n",
      "    Destino: Pluton\n",
      "    Combustible en tanques: 263\n",
      "    Tiempo recorrido de misión: 317 \n",
      "    \n"
     ]
    }
   ],
   "source": [
    "# Escribe tu nueva función de reporte considerando lo anterior\n",
    "\n",
    "def Info(Dest = 'MiCasa',*Tiempos,**Fuels):\n",
    "    return f\"\"\"Bienvenido al Informe Preciso del Apollo 11\n",
    "    Destino: {Dest}\n",
    "    Combustible en tanques: {sum(Fuels.values())}\n",
    "    Tiempo recorrido de misión: {sum(Tiempos)} \n",
    "    \"\"\"\n",
    "\n",
    "print(Info('Pluton',45,78,69,125,Central=78,Frontal=85,Backup=100))"
   ]
  },
  {
   "cell_type": "markdown",
   "metadata": {},
   "source": [
    "https://www.programiz.com/python-programming/function-argument\n",
    "me soporte tambien de esta pagina\n",
    "\n",
    "pero no le mentire \n",
    "si vi a solucion propuesta por usted, no entendia como python podria intepretar el orden de como se ingresan los datos pero algun tipo de gerarquia que logro ver bien en su codigo, me estaba quebrando la cabeza \n",
    "\n",
    "pero esto sirve mucho por la experiencia y la practica \n"
   ]
  },
  {
   "cell_type": "markdown",
   "metadata": {},
   "source": [
    "Ahora si teacher, dare todo de mi se que peudo ya casi termino estas katas (me pongo los lentes)"
   ]
  },
  {
   "cell_type": "code",
   "execution_count": 12,
   "metadata": {},
   "outputs": [
    {
     "name": "stdout",
     "output_type": "stream",
     "text": [
      "Bienvenido al Informe Preciso del Apollo 11\n",
      "    Destino: Pluton\n",
      "    Combustible en tanques: 263\n",
      "    Tiempo recorrido de misión: 317 \n",
      "\n",
      "    Informacion detallada de los tanques de combustible \n",
      "    \n",
      "    Central tank --> 78 gallons left\n",
      "Frontal tank --> 85 gallons left\n",
      "Backup tank --> 100 gallons left\n",
      "\n"
     ]
    }
   ],
   "source": [
    "# Escribe tu nueva función\n",
    "def Info(Dest = 'MiCasa',*Tiempos,**Fuels):\n",
    "    Cuerpo = f\"\"\"Bienvenido al Informe Preciso del Apollo 11\n",
    "    Destino: {Dest}\n",
    "    Combustible en tanques: {sum(Fuels.values())}\n",
    "    Tiempo recorrido de misión: {sum(Tiempos)} \n",
    "\n",
    "    Informacion detallada de los tanques de combustible> \n",
    "\n",
    "    \"\"\"\n",
    "    for Nombre_tanque, Gas in Fuels.items():\n",
    "        Cuerpo += f\"{Nombre_tanque} tank --> {Gas} gallons left\\n\"\n",
    "    return Cuerpo\n",
    "\n",
    "print(Info('Pluton',45,78,69,125,Central=78,Frontal=85,Backup=100))\n"
   ]
  },
  {
   "cell_type": "markdown",
   "metadata": {},
   "source": []
  }
 ],
 "metadata": {
  "interpreter": {
   "hash": "33541a670e8887513ebdf0f19cec6625b51694c5ef6b1c7e83282c54d5cd54e5"
  },
  "kernelspec": {
   "display_name": "Python 3.10.2 64-bit",
   "language": "python",
   "name": "python3"
  },
  "language_info": {
   "codemirror_mode": {
    "name": "ipython",
    "version": 3
   },
   "file_extension": ".py",
   "mimetype": "text/x-python",
   "name": "python",
   "nbconvert_exporter": "python",
   "pygments_lexer": "ipython3",
   "version": "3.10.2"
  },
  "orig_nbformat": 4
 },
 "nbformat": 4,
 "nbformat_minor": 2
}
