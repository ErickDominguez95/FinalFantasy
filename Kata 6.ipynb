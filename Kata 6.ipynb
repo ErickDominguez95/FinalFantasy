{
 "cells": [
  {
   "cell_type": "markdown",
   "metadata": {},
   "source": [
    "# Ejercicio 1\n"
   ]
  },
  {
   "cell_type": "code",
   "execution_count": 4,
   "metadata": {},
   "outputs": [
    {
     "name": "stdout",
     "output_type": "stream",
     "text": [
      "8\n",
      "9\n"
     ]
    }
   ],
   "source": [
    "# Creamos la lista planets y la mostramos\n",
    "planets = ['Mercurio','Venus','Tierra','Marte','Jupiter','Saturno','Urano','Neptuno']\n",
    "Num_planetas = len(planets)\n",
    "\n",
    "print(Num_planetas)\n",
    "\n",
    "# Agregamos a plutón y mostramos el último elemento\n",
    "planets.append('Pluto') # Bienvenido Pluto\n",
    "Num_planetas = len(planets)\n",
    "\n",
    "print(Num_planetas)"
   ]
  },
  {
   "cell_type": "markdown",
   "metadata": {},
   "source": [
    "Estuvo algo sencillo el primer ejercicio, ya tenia algo de experiencia con cadenads de datos por que me gustaba programar microchips para proyectos de electronica de la universidad si era un ñoño jaja    "
   ]
  },
  {
   "cell_type": "markdown",
   "metadata": {},
   "source": [
    "# Ejercicio 2"
   ]
  },
  {
   "cell_type": "code",
   "execution_count": 12,
   "metadata": {},
   "outputs": [
    {
     "name": "stdout",
     "output_type": "stream",
     "text": [
      "el planeta que usted ingreso es Tierra\n",
      "\n",
      "El planeta que seleccionaste es el Planeta numero = 3 del sistema solar \n",
      "\n",
      "Los planetas entre el sol y Tierra son =\n",
      "['Mercurio', 'Venus'] \n",
      "\n",
      "Los planetas despues de este sin pluton por que no cuenta son =\n",
      "['Marte', 'Jupiter', 'Saturno', 'Neptuno']\n",
      "\n"
     ]
    }
   ],
   "source": [
    "# Lista de planetas\n",
    "planets = ['Mercurio', 'Venus', 'Tierra', 'Marte', 'Jupiter', 'Saturno', 'Neptuno']\n",
    "\n",
    "# Solicitamos el nombre de un planeta *Pista:  input()*\n",
    "add_planet = input('Favor de ingresar el nombre del nuevo planeta Con la letra inicial en Mayuscula')\n",
    "print(f'el planeta que usted ingreso es {add_planet}''\\n')\n",
    "\n",
    "# Busca el planeta en la lista\n",
    "ubi = planets.index(add_planet)\n",
    "print(f'El planeta que seleccionaste es el Planeta numero = {ubi+1} del sistema solar ''\\n')\n",
    "\n",
    "# Muestra los planetas más cercanos al sol\n",
    "Planeta_cercanos_al_sol = planets[0:ubi]\n",
    "print(f'Los planetas entre el sol y {add_planet} son =\\n{Planeta_cercanos_al_sol} \\n') \n",
    "\n",
    "# Muestra los planetas más lejanos al sol\n",
    "Planeta_despues_del_sol = planets[ubi + 1:]\n",
    "print(f'Los planetas despues de este sin pluton por que no cuenta son =\\n{Planeta_despues_del_sol}\\n')\n",
    "\n"
   ]
  },
  {
   "cell_type": "markdown",
   "metadata": {},
   "source": [
    "Todo Good teacher es facil ya practicando ;) "
   ]
  }
 ],
 "metadata": {
  "interpreter": {
   "hash": "33541a670e8887513ebdf0f19cec6625b51694c5ef6b1c7e83282c54d5cd54e5"
  },
  "kernelspec": {
   "display_name": "Python 3.10.2 64-bit",
   "language": "python",
   "name": "python3"
  },
  "language_info": {
   "codemirror_mode": {
    "name": "ipython",
    "version": 3
   },
   "file_extension": ".py",
   "mimetype": "text/x-python",
   "name": "python",
   "nbconvert_exporter": "python",
   "pygments_lexer": "ipython3",
   "version": "3.10.2"
  },
  "orig_nbformat": 4
 },
 "nbformat": 4,
 "nbformat_minor": 2
}
