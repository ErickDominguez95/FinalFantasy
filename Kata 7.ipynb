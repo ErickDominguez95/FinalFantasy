{
 "cells": [
  {
   "cell_type": "markdown",
   "metadata": {},
   "source": [
    "# Ejercicio 1"
   ]
  },
  {
   "cell_type": "code",
   "execution_count": 3,
   "metadata": {},
   "outputs": [],
   "source": [
    "# Declara dos variables\n",
    "new_planet = 'X Yolo'\n",
    "Planets = []\n",
    "\n",
    "# Escribe el ciclo while solicitado\n",
    "while new_planet.lower() != 'done':\n",
    "    if new_planet:\n",
    "        Planets.append(new_planet)\n",
    "    new_planet = input('Ingrese el Nombre del planeta o ingrese \"done\" si ya termino de ingresar planetas')"
   ]
  },
  {
   "cell_type": "markdown",
   "metadata": {},
   "source": [
    "Todo Good Maestra con la explicacion del tema en la Kata 7 esta sencillo ;) "
   ]
  },
  {
   "cell_type": "markdown",
   "metadata": {},
   "source": [
    "# Ejercicio 2\n"
   ]
  },
  {
   "cell_type": "code",
   "execution_count": 8,
   "metadata": {},
   "outputs": [
    {
     "name": "stdout",
     "output_type": "stream",
     "text": [
      "Los planetas que ingreo son los siguientes:\n",
      "\n",
      "{'juan '}\n",
      "{'pedro '}\n",
      "{'pablo '}\n",
      "{'MArte '}\n",
      "{'Tierra '}\n",
      "{'Jupiter'}\n",
      "{'Mercurio '}\n",
      "{'Pluton'}\n"
     ]
    }
   ],
   "source": [
    "new_planet = ''\n",
    "Planets = []\n",
    "\n",
    "while new_planet.lower() != 'done':\n",
    "    if new_planet:\n",
    "        Planets.append(new_planet)\n",
    "    new_planet = input('Ingrese el Nombre del planeta o ingrese \"done\" si ya termino de ingresar planetas')\n",
    "\n",
    "print('Los planetas que ingreo son los siguientes:\\n')\n",
    "for Planet in Planets:\n",
    "    print(Planet)\n"
   ]
  }
 ],
 "metadata": {
  "interpreter": {
   "hash": "33541a670e8887513ebdf0f19cec6625b51694c5ef6b1c7e83282c54d5cd54e5"
  },
  "kernelspec": {
   "display_name": "Python 3.10.2 64-bit",
   "language": "python",
   "name": "python3"
  },
  "language_info": {
   "codemirror_mode": {
    "name": "ipython",
    "version": 3
   },
   "file_extension": ".py",
   "mimetype": "text/x-python",
   "name": "python",
   "nbconvert_exporter": "python",
   "pygments_lexer": "ipython3",
   "version": "3.10.2"
  },
  "orig_nbformat": 4
 },
 "nbformat": 4,
 "nbformat_minor": 2
}
